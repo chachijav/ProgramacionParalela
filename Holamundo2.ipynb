{
 "cells": [
  {
   "cell_type": "code",
   "execution_count": 1,
   "id": "c299e57d",
   "metadata": {},
   "outputs": [
    {
     "name": "stdout",
     "output_type": "stream",
     "text": [
      "Hola Mundo\n"
     ]
    }
   ],
   "source": [
    "print(\"Hola Mundo\")"
   ]
  },
  {
   "cell_type": "code",
   "execution_count": 2,
   "id": "1fcca45e",
   "metadata": {},
   "outputs": [
    {
     "name": "stdout",
     "output_type": "stream",
     "text": [
      "2021-09-02 20:23:00.021131\n",
      "20:23:00.021131\n",
      "2021-09-02\n",
      "Esta es la Hora: 20 Estos son los Minutos: 23 Y Segundo: 0\n",
      "2021 9 2\n"
     ]
    }
   ],
   "source": [
    "import datetime\n",
    "\n",
    "hora_fecha_actual = datetime.datetime.now()\n",
    "\n",
    "print(hora_fecha_actual)\n",
    "\n",
    "hora = hora_fecha_actual.time()\n",
    "fecha = hora_fecha_actual.date()\n",
    "\n",
    "print (hora)\n",
    "print (fecha)\n",
    "\n",
    "print(\"Esta es la Hora:\", hora.hour, \"Estos son los Minutos:\", hora.minute, \"Y Segundo:\", hora.second)\n",
    "print(fecha.year, fecha.month, fecha.day)"
   ]
  },
  {
   "cell_type": "code",
   "execution_count": 1,
   "id": "ae8dc4b4",
   "metadata": {},
   "outputs": [
    {
     "name": "stdout",
     "output_type": "stream",
     "text": [
      "numero de procesadores: 8\n"
     ]
    }
   ],
   "source": [
    "import multiprocessing as mp\n",
    "\n",
    "print (\"numero de procesadores:\", mp.cpu_count())\n",
    "\n"
   ]
  },
  {
   "cell_type": "code",
   "execution_count": 1,
   "id": "3af9763a",
   "metadata": {},
   "outputs": [
    {
     "data": {
      "text/plain": [
       "[[0, 9, 0, 8, 9],\n",
       " [8, 8, 4, 1, 5],\n",
       " [6, 6, 2, 6, 2],\n",
       " [0, 2, 6, 9, 2],\n",
       " [2, 8, 0, 9, 5]]"
      ]
     },
     "execution_count": 1,
     "metadata": {},
     "output_type": "execute_result"
    }
   ],
   "source": [
    "import numpy as np\n",
    "from time import time\n",
    "\n",
    "np.random.RandomState(100)\n",
    "arr = np.random.randint(0, 10, size=[200000, 5])\n",
    "data = arr.tolist()\n",
    "data[:5]\n"
   ]
  },
  {
   "cell_type": "code",
   "execution_count": 2,
   "id": "d05de5bd",
   "metadata": {},
   "outputs": [
    {
     "name": "stdout",
     "output_type": "stream",
     "text": [
      "0 1 1 2 3 5 8 13 21 34 55 89 144 233 377 610 987 \n"
     ]
    }
   ],
   "source": [
    "def fib(n):\n",
    "    a, b = 0,1\n",
    "    while a < n:\n",
    "        print(a, end=' ')\n",
    "        a, b = b, a+b\n",
    "    print()\n",
    "fib(1000)"
   ]
  },
  {
   "cell_type": "code",
   "execution_count": 3,
   "id": "8f603dc1",
   "metadata": {},
   "outputs": [
    {
     "name": "stderr",
     "output_type": "stream",
     "text": [
      "[Parallel(n_jobs=-1)]: Using backend LokyBackend with 8 concurrent workers.\n",
      "[Parallel(n_jobs=-1)]: Done   2 tasks      | elapsed:    0.9s\n",
      "[Parallel(n_jobs=-1)]: Done  96 tasks      | elapsed:    1.0s\n",
      "[Parallel(n_jobs=-1)]: Done 2246 tasks      | elapsed:    1.6s\n",
      "[Parallel(n_jobs=-1)]: Done 3000 out of 3000 | elapsed:    1.9s finished\n"
     ]
    }
   ],
   "source": [
    "from joblib import Parallel, delayed\n",
    "from os import getpid\n",
    "\n",
    "def modfib(n):\n",
    "    if n%400 == 0:\n",
    "        print(getpid(), n)  \n",
    "\n",
    "    # fibonacci mod 1000000\n",
    "    a,b = 0,1\n",
    "    for i in range(n):\n",
    "        a,b = b,(a+b)%1000000\n",
    "    return b\n",
    "\n",
    "if __name__ == \"__main__\":\n",
    "    Parallel(n_jobs=-1, verbose=5)(delayed(modfib)(j) for j in range(1000, 4000))"
   ]
  },
  {
   "cell_type": "code",
   "execution_count": null,
   "id": "35b36ba8",
   "metadata": {},
   "outputs": [],
   "source": []
  }
 ],
 "metadata": {
  "kernelspec": {
   "display_name": "Python 3",
   "language": "python",
   "name": "python3"
  },
  "language_info": {
   "codemirror_mode": {
    "name": "ipython",
    "version": 3
   },
   "file_extension": ".py",
   "mimetype": "text/x-python",
   "name": "python",
   "nbconvert_exporter": "python",
   "pygments_lexer": "ipython3",
   "version": "3.8.8"
  }
 },
 "nbformat": 4,
 "nbformat_minor": 5
}
